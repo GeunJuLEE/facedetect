{
 "cells": [
  {
   "cell_type": "markdown",
   "metadata": {},
   "source": [
    "# face detect"
   ]
  },
  {
   "cell_type": "code",
   "execution_count": 1,
   "metadata": {},
   "outputs": [
    {
     "name": "stderr",
     "output_type": "stream",
     "text": [
      "Using TensorFlow backend.\n"
     ]
    }
   ],
   "source": [
    "# Python 2/3 compatibility\n",
    "from __future__ import print_function\n",
    "\n",
    "import numpy as np\n",
    "import cv2 as cv\n",
    "from PIL import Image\n",
    "# local modules\n",
    "from video import create_capture\n",
    "from common import clock, draw_str\n",
    "\n",
    "\n",
    "from keras.models import model_from_json\n",
    "from keras import layers\n",
    "from keras import models\n",
    "from keras.preprocessing import image\n",
    "from tensorflow.python.framework import ops\n",
    "ops.reset_default_graph()\n",
    "\n",
    "import os"
   ]
  },
  {
   "cell_type": "code",
   "execution_count": 2,
   "metadata": {},
   "outputs": [],
   "source": [
    "#detect\n",
    "def detect(img, cascade):\n",
    "    rects = cascade.detectMultiScale(img, scaleFactor=1.3, minNeighbors=4, minSize=(30, 30),\n",
    "                                     flags=cv.CASCADE_SCALE_IMAGE)\n",
    "    if len(rects) == 0:\n",
    "        return []\n",
    "    rects[:,2:] += rects[:,:2]\n",
    "    #print(rects[0][2]-rects[0][0], rects[0][3]-rects[0][1])\n",
    "    return rects\n",
    "\n",
    "#when detect, this reacts\n",
    "def draw_rects(img, rects, color):\n",
    "    for x1, y1, x2, y2 in rects:\n",
    "        cv.rectangle(img, (x1, y1), (x2, y2), color, 2)\n",
    "        \n",
    "def onlyface(img, rects):\n",
    "    for x1, y1, x2, y2 in rects:\n",
    "        #print(x1, y1, x2, y2)\n",
    "        x1 = max(0, x1 - 80)\n",
    "        x2 = min(480, x2+80)\n",
    "        y1 = max(0, y1-80)\n",
    "        y2 = min(640, y2+80)\n",
    "        return img[y1:y2,x1:x2]\n",
    "    return None"
   ]
  },
  {
   "cell_type": "code",
   "execution_count": 3,
   "metadata": {},
   "outputs": [],
   "source": [
    "import easydict\n",
    "import argparse"
   ]
  },
  {
   "cell_type": "code",
   "execution_count": 4,
   "metadata": {},
   "outputs": [
    {
     "name": "stderr",
     "output_type": "stream",
     "text": [
      "usage: ipykernel_launcher.py [-h] [--cascade CASCADE]\n",
      "                             [--nested-cascade NESTED_CASCADE]\n",
      "ipykernel_launcher.py: error: unrecognized arguments: -f C:\\Users\\LGJ\\AppData\\Roaming\\jupyter\\runtime\\kernel-73f0a314-c6ea-46c2-8dc3-9f81f3bbbe1c.json\n"
     ]
    },
    {
     "ename": "SystemExit",
     "evalue": "2",
     "output_type": "error",
     "traceback": [
      "An exception has occurred, use %tb to see the full traceback.\n",
      "\u001b[1;31mSystemExit\u001b[0m\u001b[1;31m:\u001b[0m 2\n"
     ]
    },
    {
     "name": "stderr",
     "output_type": "stream",
     "text": [
      "C:\\Users\\LGJ\\Anaconda3\\lib\\site-packages\\IPython\\core\\interactiveshell.py:3333: UserWarning: To exit: use 'exit', 'quit', or Ctrl-D.\n",
      "  warn(\"To exit: use 'exit', 'quit', or Ctrl-D.\", stacklevel=1)\n"
     ]
    }
   ],
   "source": [
    "#####################################################################\n",
    "parser = argparse.ArgumentParser()\n",
    "parser.add_argument('--cascade', type=str, default='./haarcascade_frontalface_alt.xml',\n",
    "                    help='cascade file')\n",
    "parser.add_argument('--nested-cascade', type=str,\n",
    "                    default='./haarcascades/haarcascade_eye.xml',\n",
    "                    help='nested-cascade file')\n",
    "args = parser.parse_args()\n",
    "#####################################################################"
   ]
  },
  {
   "cell_type": "code",
   "execution_count": 11,
   "metadata": {},
   "outputs": [],
   "source": [
    "args = easydict.EasyDict({ \"cascade\" : \"./haarcascade_frontalface_alt.xml\",\n",
    "                          \"nested_cascade\" : \"./haarcascade_eye.xml\"\n",
    "                         })"
   ]
  },
  {
   "cell_type": "code",
   "execution_count": 12,
   "metadata": {},
   "outputs": [
    {
     "name": "stdout",
     "output_type": "stream",
     "text": [
      "----- info -----\n",
      "[i] The config file:  ./haarcascade_frontalface_alt.xml\n",
      "[i] The weights of model file:  ./haarcascade_eye.xml\n",
      "###########################################################\n",
      "\n"
     ]
    }
   ],
   "source": [
    "\n",
    "print('----- info -----')\n",
    "print('[i] The config file: ', args.cascade)\n",
    "print('[i] The weights of model file: ', args.nested_cascade)\n",
    "print('###########################################################\\n')"
   ]
  },
  {
   "cell_type": "code",
   "execution_count": 13,
   "metadata": {},
   "outputs": [],
   "source": [
    "dirname = 'data'\n",
    "output = 'output'"
   ]
  },
  {
   "cell_type": "code",
   "execution_count": 14,
   "metadata": {},
   "outputs": [],
   "source": [
    "filenames = os.listdir(dirname)\n",
    "absFileNmaes = []\n",
    "absOutoutNames = []\n",
    "for i in filenames:\n",
    "    absFileNmaes.append(os.path.join(dirname, i))\n",
    "    absOutoutNames.append(os.path.join(output, i))"
   ]
  },
  {
   "cell_type": "code",
   "execution_count": 15,
   "metadata": {},
   "outputs": [
    {
     "name": "stdout",
     "output_type": "stream",
     "text": [
      "Automatically created module for IPython interactive environment\n",
      "Done\n"
     ]
    }
   ],
   "source": [
    "def main():\n",
    "    import sys, getopt\n",
    "\n",
    "    cascade_fn = args.cascade\n",
    "    nested_fn  = args.nested_cascade\n",
    "\n",
    "    cascade = cv.CascadeClassifier(cv.samples.findFile(cascade_fn))\n",
    "    nested = cv.CascadeClassifier(cv.samples.findFile(nested_fn))\n",
    "\n",
    "    \n",
    "    for k in range(len(absFileNmaes)):\n",
    "        i = absFileNmaes[k]\n",
    "        j = absOutoutNames[k]\n",
    "        cap = cv.VideoCapture(i)\n",
    "        ret, img = cap.read()\n",
    "\n",
    "        gray = cv.cvtColor(img, cv.COLOR_BGR2GRAY)\n",
    "        gray = cv.equalizeHist(gray)\n",
    "\n",
    "\n",
    "        rects = detect(gray, cascade)\n",
    "        vis = img.copy()\n",
    "        draw_rects(vis, rects, (0, 255, 0))\n",
    "\n",
    "\n",
    "\n",
    "        if not nested.empty():\n",
    "            for x1, y1, x2, y2 in rects:\n",
    "                roi = gray[y1:y2, x1:x2]\n",
    "                vis_roi = vis[y1:y2, x1:x2]\n",
    "                subrects = detect(roi.copy(), nested) #detect\n",
    "                draw_rects(vis_roi, subrects, (255, 0, 0))\n",
    "                cv.imwrite(j, vis_roi.astype(np.uint8))\n",
    "\n",
    "\n",
    "    print('Done')\n",
    "\n",
    "\n",
    "if __name__ == '__main__':\n",
    "    print(__doc__)\n",
    "    main()\n",
    "    cv.destroyAllWindows()\n"
   ]
  },
  {
   "cell_type": "code",
   "execution_count": null,
   "metadata": {},
   "outputs": [],
   "source": []
  },
  {
   "cell_type": "code",
   "execution_count": null,
   "metadata": {},
   "outputs": [],
   "source": []
  }
 ],
 "metadata": {
  "kernelspec": {
   "display_name": "Python 3",
   "language": "python",
   "name": "python3"
  },
  "language_info": {
   "codemirror_mode": {
    "name": "ipython",
    "version": 3
   },
   "file_extension": ".py",
   "mimetype": "text/x-python",
   "name": "python",
   "nbconvert_exporter": "python",
   "pygments_lexer": "ipython3",
   "version": "3.7.3"
  }
 },
 "nbformat": 4,
 "nbformat_minor": 2
}
